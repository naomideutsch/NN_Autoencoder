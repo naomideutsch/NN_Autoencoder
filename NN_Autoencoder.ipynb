{
  "nbformat": 4,
  "nbformat_minor": 0,
  "metadata": {
    "colab": {
      "name": "NN_Autoencoder.ipynb",
      "provenance": [],
      "authorship_tag": "ABX9TyOpIPZBH6RpJm1sc8EvqEh9",
      "include_colab_link": true
    },
    "kernelspec": {
      "name": "python3",
      "display_name": "Python 3"
    },
    "accelerator": "GPU"
  },
  "cells": [
    {
      "cell_type": "markdown",
      "metadata": {
        "id": "view-in-github",
        "colab_type": "text"
      },
      "source": [
        "<a href=\"https://colab.research.google.com/github/naomideutsch/NN_Autoencoder/blob/master/NN_Autoencoder.ipynb\" target=\"_parent\"><img src=\"https://colab.research.google.com/assets/colab-badge.svg\" alt=\"Open In Colab\"/></a>"
      ]
    },
    {
      "cell_type": "code",
      "metadata": {
        "id": "ZmsX53161M3o",
        "colab_type": "code",
        "colab": {}
      },
      "source": [
        "pip install tensorflow-gpu==2.0.0"
      ],
      "execution_count": 0,
      "outputs": []
    },
    {
      "cell_type": "code",
      "metadata": {
        "id": "TfT6Fo_a1h30",
        "colab_type": "code",
        "colab": {}
      },
      "source": [
        "!git clone https://github.com/naomideutsch/NN_Autoencoder.git"
      ],
      "execution_count": 0,
      "outputs": []
    },
    {
      "cell_type": "code",
      "metadata": {
        "id": "LsCrRH6K1pc0",
        "colab_type": "code",
        "colab": {}
      },
      "source": [
        "cd NN_Autoencoder/"
      ],
      "execution_count": 0,
      "outputs": []
    },
    {
      "cell_type": "code",
      "metadata": {
        "id": "GJ3XPbPN1zTX",
        "colab_type": "code",
        "colab": {}
      },
      "source": [
        "!git pull\n",
        "from google.colab import drive\n",
        "drive.mount('/content/drive')"
      ],
      "execution_count": 0,
      "outputs": []
    },
    {
      "cell_type": "code",
      "metadata": {
        "id": "UJbMsnQj-Q4w",
        "colab_type": "code",
        "colab": {}
      },
      "source": [
        "!python ex3_GAN.py --output_path=\"/content/drive/My Drive/Colab Notebooks\" --epochs=2"
      ],
      "execution_count": 0,
      "outputs": []
    }
  ]
}